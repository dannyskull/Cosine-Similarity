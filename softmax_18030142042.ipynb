{
 "cells": [
  {
   "cell_type": "markdown",
   "metadata": {},
   "source": [
    "# Name : Danish A. Hamdule\n",
    "# PRN : 18030142042"
   ]
  },
  {
   "cell_type": "code",
   "execution_count": 1,
   "metadata": {},
   "outputs": [
    {
     "name": "stdout",
     "output_type": "stream",
     "text": [
      "[3.22956021e-12 8.77885484e-12 2.38634016e-11 6.48674509e-11\n",
      " 1.76328013e-10 4.79309234e-10 1.30289758e-09 3.54164282e-09\n",
      " 9.62718331e-09 2.61693974e-08 7.11357975e-08 1.93367146e-07\n",
      " 5.25626399e-07 1.42880069e-06 3.88388295e-06 1.05574884e-05\n",
      " 2.86982290e-05 7.80098743e-05 2.12052824e-04 5.76419338e-04\n",
      " 1.56687021e-03 4.25919482e-03 1.15776919e-02 3.14714295e-02\n",
      " 8.55482149e-02 2.32544158e-01 6.32120559e-01]\n"
     ]
    }
   ],
   "source": [
    "\n",
    "import numpy\n",
    "\n",
    "# Calculating Softmax\n",
    "def getSoftmax(numpyArray):\n",
    "    return (numpy.exp(numpyArray) / sum(numpy.exp(numpyArray)))\n",
    "\n",
    "# A 3 dimensional numpy array\n",
    "numpyArray = numpy.array(numpy.arange(1,28),dtype = numpy.int32).reshape(3,3,3)\n",
    "print(getSoftmax(numpyArray.flatten()))"
   ]
  }
 ],
 "metadata": {
  "kernelspec": {
   "display_name": "Python 3",
   "language": "python",
   "name": "python3"
  },
  "language_info": {
   "codemirror_mode": {
    "name": "ipython",
    "version": 3
   },
   "file_extension": ".py",
   "mimetype": "text/x-python",
   "name": "python",
   "nbconvert_exporter": "python",
   "pygments_lexer": "ipython3",
   "version": "3.6.7"
  }
 },
 "nbformat": 4,
 "nbformat_minor": 2
}
