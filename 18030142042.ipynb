{
 "cells": [
  {
   "cell_type": "markdown",
   "metadata": {},
   "source": [
    "# Name: Danish A. Hamdule\n",
    "# PRN: 18030142042"
   ]
  },
  {
   "cell_type": "code",
   "execution_count": 1,
   "metadata": {},
   "outputs": [],
   "source": [
    "import numpy\n",
    "from numpy.linalg import norm"
   ]
  },
  {
   "cell_type": "markdown",
   "metadata": {},
   "source": [
    "## Cosine Similarity Function"
   ]
  },
  {
   "cell_type": "code",
   "execution_count": 2,
   "metadata": {},
   "outputs": [],
   "source": [
    "def cosine_similarity(a , b):\n",
    "    numerator = numpy.dot(a , b)\n",
    "    denominator = norm(a) * norm(b)\n",
    "    return numerator/denominator"
   ]
  },
  {
   "cell_type": "markdown",
   "metadata": {},
   "source": [
    "## Importing the Glove"
   ]
  },
  {
   "cell_type": "code",
   "execution_count": 6,
   "metadata": {},
   "outputs": [
    {
     "name": "stdout",
     "output_type": "stream",
     "text": [
      "Loaded 400000 word vectors.\n"
     ]
    }
   ],
   "source": [
    "embeddings_index = dict()\n",
    "with open('./glove.6B/glove.6B.300d.txt', encoding = 'UTF-8') as f:\n",
    "    for line in f:\n",
    "        values = line.split()\n",
    "        word = values[0]\n",
    "        coefs = numpy.asarray(values[1:], dtype='float32')\n",
    "        embeddings_index[word] = coefs\n",
    "print('Loaded %s word vectors.' % len(embeddings_index))"
   ]
  },
  {
   "cell_type": "markdown",
   "metadata": {},
   "source": [
    "## Finding similarities of terms with each word in Glove"
   ]
  },
  {
   "cell_type": "code",
   "execution_count": 7,
   "metadata": {},
   "outputs": [],
   "source": [
    "similarities = {'wikipedia' : [] , 'software' : [] , 'jupiter' : [] , 'wise' : []}\n",
    "for key in similarities.keys():    \n",
    "    temp = dict()\n",
    "    for iterator in embeddings_index.keys():\n",
    "        temp[iterator] = cosine_similarity(embeddings_index.get(key) , embeddings_index.get(iterator))\n",
    "    similarities[key] = temp"
   ]
  },
  {
   "cell_type": "markdown",
   "metadata": {},
   "source": [
    "## Sorting according to the similarities"
   ]
  },
  {
   "cell_type": "code",
   "execution_count": 8,
   "metadata": {
    "scrolled": true
   },
   "outputs": [
    {
     "name": "stdout",
     "output_type": "stream",
     "text": [
      "Similar words to  wikipedia  : \n",
      "[('encyclopedia', 0.5071937), ('wikimedia', 0.503956), ('wiki', 0.49234116), ('facebook', 0.46857366), ('blog', 0.45391092), ('conservapedia', 0.45230368), ('youtube', 0.4515114), ('britannica', 0.44909373), ('websites', 0.44877544), ('blogs', 0.4350596)] \n",
      "\n",
      "Similar words to  software  : \n",
      "[('computer', 0.733442), ('microsoft', 0.69467705), ('hardware', 0.6577369), ('computers', 0.6233539), ('internet', 0.5980144), ('server', 0.595503), ('pc', 0.59287304), ('users', 0.5790903), ('systems', 0.5759312), ('desktop', 0.5759283)] \n",
      "\n",
      "Similar words to  jupiter  : \n",
      "[('moons', 0.631803), ('planets', 0.58829653), ('uranus', 0.5754998), ('planet', 0.563154), ('saturn', 0.5374634), ('neptune', 0.52758086), ('mars', 0.52477854), ('comet', 0.5238447), ('io', 0.51876086), ('orbits', 0.51584727)] \n",
      "\n",
      "Similar words to  wise  : \n",
      "[('foolish', 0.5345337), ('prudent', 0.50647175), ('smart', 0.4634278), ('shrewd', 0.458731), ('advice', 0.45549628), ('good', 0.45343092), ('savvy', 0.44320345), ('intelligent', 0.43493003), ('sensible', 0.43278933), ('thoughtful', 0.43142617)] \n",
      "\n"
     ]
    }
   ],
   "source": [
    "for term in similarities.keys():\n",
    "    print('Similar words to ' , term , ' : ')\n",
    "    print(sorted(similarities[term].items() , key = lambda x : x[1])[-2 : len(similarities[term]) - 12 : -1],'\\n')"
   ]
  }
 ],
 "metadata": {
  "kernelspec": {
   "display_name": "Python 3",
   "language": "python",
   "name": "python3"
  },
  "language_info": {
   "codemirror_mode": {
    "name": "ipython",
    "version": 3
   },
   "file_extension": ".py",
   "mimetype": "text/x-python",
   "name": "python",
   "nbconvert_exporter": "python",
   "pygments_lexer": "ipython3",
   "version": "3.6.7"
  }
 },
 "nbformat": 4,
 "nbformat_minor": 2
}
